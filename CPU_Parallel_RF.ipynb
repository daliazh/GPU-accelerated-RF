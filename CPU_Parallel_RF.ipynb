{
  "cells": [
    {
      "cell_type": "code",
      "execution_count": 1,
      "metadata": {
        "id": "xCy9pVIrIvTI"
      },
      "outputs": [],
      "source": [
        "import numpy as np\n",
        "import pandas as pd\n",
        "from sklearn.ensemble import RandomForestClassifier\n",
        "from sklearn.metrics import accuracy_score\n",
        "import sklearn\n",
        "import time"
      ]
    },
    {
      "cell_type": "code",
      "execution_count": 2,
      "metadata": {
        "id": "2uMzQcblI6pP"
      },
      "outputs": [],
      "source": [
        "train_fn = \"/content/drive/MyDrive/bank_train.csv\" #train path\n",
        "test_fn = \"/content/drive/MyDrive/bank_test.csv\" #test path"
      ]
    },
    {
      "cell_type": "code",
      "execution_count": 3,
      "metadata": {
        "id": "ldF13s32JCfH"
      },
      "outputs": [],
      "source": [
        "train_df = pd.read_csv(train_fn)\n",
        "test_df = pd.read_csv(test_fn)"
      ]
    },
    {
      "cell_type": "markdown",
      "metadata": {
        "id": "T0zZe2fwot9F"
      },
      "source": [
        "Marketing Preprocessing (only run when using marketing dataset)"
      ]
    },
    {
      "cell_type": "code",
      "execution_count": 4,
      "metadata": {
        "id": "Bjb1Mqo5JDCZ"
      },
      "outputs": [],
      "source": [
        "# Code categorical variables\n",
        "for p in [\"job\", \"marital\", \"education\", \"default\", \"housing\", \"loan\", \"contact\", \"poutcome\", \"month\"]:\n",
        "\tlabel_encoder = sklearn.preprocessing.LabelEncoder()\n",
        "\tlabel_encoder.fit(train_df[p].unique())\n",
        "\ttrain_df[p] = label_encoder.transform(train_df[p])\n",
        "\ttest_df[p] = label_encoder.transform(test_df[p])\n"
      ]
    },
    {
      "cell_type": "markdown",
      "metadata": {
        "id": "qDR0_6Kxo8sM"
      },
      "source": [
        "loan Preprocessing (only run when using marketing dataset)"
      ]
    },
    {
      "cell_type": "code",
      "execution_count": null,
      "metadata": {
        "id": "JA_UVrgzo6sb"
      },
      "outputs": [],
      "source": [
        "# Code categorical variables\n",
        "for p in [\"grade\", \"sub_grade\", \"initial_list_status\"]:\n",
        "\tlabel_encoder = sklearn.preprocessing.LabelEncoder()\n",
        "\tlabel_encoder.fit(train_df[p].unique())\n",
        "\ttrain_df[p] = label_encoder.transform(train_df[p])\n",
        "\ttest_df[p] = label_encoder.transform(test_df[p])"
      ]
    },
    {
      "cell_type": "code",
      "execution_count": 5,
      "metadata": {
        "id": "Dl6ZpPMsJFZa"
      },
      "outputs": [],
      "source": [
        "cols = train_df.columns.values "
      ]
    },
    {
      "cell_type": "code",
      "execution_count": 6,
      "metadata": {
        "id": "UTqt_oYhJHK_"
      },
      "outputs": [],
      "source": [
        "predictors = [p for p in cols if p != \"y\"]\n",
        "target = \"y\""
      ]
    },
    {
      "cell_type": "code",
      "execution_count": 7,
      "metadata": {
        "id": "9oXEOPmIJKgx"
      },
      "outputs": [],
      "source": [
        "# Parameters for random forest\n",
        "# TODO make these optional command line arguments\n",
        "n = 500\n",
        "split_n = 85\n",
        "leaf_n = 75\n",
        "seed = 1995\n",
        "jobs=2 #increase to desired parallel jobs number, or set to -1 to utilize maximum cores available"
      ]
    },
    {
      "cell_type": "code",
      "execution_count": 8,
      "metadata": {
        "id": "7Q-T52ehJM1A"
      },
      "outputs": [],
      "source": [
        "\n",
        "# Initalize random forest class\n",
        "rf = RandomForestClassifier(random_state = seed, n_estimators = n, min_samples_split = split_n, min_samples_leaf = leaf_n, n_jobs=jobs)"
      ]
    },
    {
      "cell_type": "code",
      "execution_count": 9,
      "metadata": {
        "colab": {
          "base_uri": "https://localhost:8080/"
        },
        "id": "OnvkV7-GJNhk",
        "outputId": "d5110926-6ba7-4324-b2ac-88821ea7b532"
      },
      "outputs": [
        {
          "name": "stdout",
          "output_type": "stream",
          "text": [
            "CPU times: user 16.8 s, sys: 13.8 ms, total: 16.8 s\n",
            "Wall time: 16.9 s\n"
          ]
        },
        {
          "data": {
            "text/plain": [
              "RandomForestClassifier(min_samples_leaf=75, min_samples_split=85,\n",
              "                       n_estimators=500, random_state=1995)"
            ]
          },
          "execution_count": 9,
          "metadata": {},
          "output_type": "execute_result"
        }
      ],
      "source": [
        "# Train\n",
        "%%time\n",
        "rf.fit(train_df[predictors], train_df[target])"
      ]
    },
    {
      "cell_type": "code",
      "execution_count": 10,
      "metadata": {
        "id": "m6cY2lQ7qHM6"
      },
      "outputs": [],
      "source": [
        "from time import sleep\n",
        "from random import random\n",
        "from multiprocessing.pool import ThreadPool\n",
        "\n",
        "import threading \n",
        "import time \n",
        "import array\n",
        "lock = threading.Lock()\n",
        "\n",
        "counter=0\n",
        "total=0"
      ]
    },
    {
      "cell_type": "code",
      "execution_count": 13,
      "metadata": {
        "id": "Ij299UqUJQ6G"
      },
      "outputs": [],
      "source": [
        "#test\n",
        "def model_test_time(name):\n",
        "    global counter, total, test_probs\n",
        "    start = time.time()\n",
        "    test_probs = rf.predict_proba(test_df[predictors])\n",
        "    end = time.time()\n",
        "    time_per_thread = end-start\n",
        "    #lock.acquire\n",
        "    counter+=1\n",
        "    #lock.release\n",
        "    print(\"Time spend by thread \" + str(name) + \": \" + str(time_per_thread))\n",
        "    #lock.acquire\n",
        "    total+=time_per_thread\n",
        "    #lock.release\n",
        "    print(\"Total time:\" + str(total))"
      ]
    },
    {
      "cell_type": "code",
      "execution_count": 14,
      "metadata": {
        "colab": {
          "base_uri": "https://localhost:8080/"
        },
        "id": "LZs7sKdhrHXj",
        "outputId": "0e32a360-01d4-42a9-cdc3-40ccae519aba"
      },
      "outputs": [
        {
          "name": "stdout",
          "output_type": "stream",
          "text": [
            "Time spend by thread 0: 1.0066688060760498\n",
            "Total time:13.79395079612732\n",
            "Time spend by thread 2: 1.0391135215759277\n",
            "Total time:14.833064317703247\n",
            "Time spend by thread 1: 1.1364021301269531\n",
            "Total time:15.9694664478302\n",
            "Time spend by thread 3: 1.1667635440826416\n",
            "Total time:17.136229991912842\n",
            "Time spend by thread 4: 0.9887890815734863\n",
            "Total time:18.125019073486328\n",
            "Time spend by thread 6: 0.9806187152862549\n",
            "Total time:19.105637788772583\n",
            "Time spend by thread 5: 1.0311942100524902\n",
            "Total time:20.136831998825073\n",
            "Time spend by thread 7: 1.0192201137542725\n",
            "Total time:21.156052112579346\n",
            "Time spend by thread 8: 0.7651762962341309\n",
            "Total time:21.921228408813477\n",
            "Time spend by thread 9: 0.7582409381866455\n",
            "Total time:22.679469347000122\n"
          ]
        }
      ],
      "source": [
        "with ThreadPool() as pool:\n",
        "    pool.map(model_test_time, range(10))"
      ]
    },
    {
      "cell_type": "code",
      "execution_count": 15,
      "metadata": {
        "id": "T6evLwTDJSwh"
      },
      "outputs": [],
      "source": [
        "# Get predicted probability that y = 1\n",
        "test_predictions = [x[1] for x in test_probs]"
      ]
    },
    {
      "cell_type": "code",
      "execution_count": 16,
      "metadata": {
        "id": "7_7OtbE-JXPh"
      },
      "outputs": [],
      "source": [
        "# Calculate MSE for test data\n",
        "test_error = (test_predictions - test_df[target]) ** 2\n",
        "mse = test_error.mean()"
      ]
    },
    {
      "cell_type": "code",
      "execution_count": 18,
      "metadata": {
        "id": "uo559PuIJaGh"
      },
      "outputs": [],
      "source": [
        "# Calculate misclassification rate on test data\n",
        "mis_rate = 1 - accuracy_score(test_df[target], rf.predict(test_df[predictors]))"
      ]
    },
    {
      "cell_type": "code",
      "execution_count": 19,
      "metadata": {
        "colab": {
          "base_uri": "https://localhost:8080/"
        },
        "id": "FYIU8ZPlJaXO",
        "outputId": "0752f9f6-41aa-40b9-e295-b4687e054757"
      },
      "outputs": [
        {
          "name": "stdout",
          "output_type": "stream",
          "text": [
            "0.8986109882332124\n"
          ]
        }
      ],
      "source": [
        "print (accuracy_score(test_df[target], rf.predict(test_df[predictors])))"
      ]
    },
    {
      "cell_type": "code",
      "execution_count": 20,
      "metadata": {
        "colab": {
          "base_uri": "https://localhost:8080/"
        },
        "id": "sHfCtpjvJhe-",
        "outputId": "cde83622-7d12-4f15-b978-744f01b8dae5"
      },
      "outputs": [
        {
          "name": "stdout",
          "output_type": "stream",
          "text": [
            "**************sklearn random forest**************\n",
            "Marketing data:\n",
            "Test MSE: 0.06916433152426746\n",
            "Test misclassification rate: 0.1013890117667876\n"
          ]
        }
      ],
      "source": [
        "# Print out summary\n",
        "print (\"**************sklearn random forest**************\")\n",
        "print (\"Test MSE: \" + str(mse))\n",
        "print (\"Test misclassification rate: \" + str(mis_rate))"
      ]
    }
  ],
  "metadata": {
    "colab": {
      "provenance": []
    },
    "kernelspec": {
      "display_name": "Python 3",
      "name": "python3"
    },
    "language_info": {
      "name": "python"
    }
  },
  "nbformat": 4,
  "nbformat_minor": 0
}
